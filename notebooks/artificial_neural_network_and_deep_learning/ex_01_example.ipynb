{
  "nbformat": 4,
  "nbformat_minor": 0,
  "metadata": {
    "colab": {
      "provenance": [],
      "gpuType": "T4",
      "machine_shape": "hm"
    },
    "kernelspec": {
      "name": "python3",
      "display_name": "Python 3"
    },
    "language_info": {
      "name": "python"
    },
    "accelerator": "GPU"
  },
  "cells": [
    {
      "cell_type": "markdown",
      "source": [
        "Consider the following sets of numbers. Can you see the relationship between them?\n",
        "\n",
        "\n",
        "![Screenshot 2021-12-10 at 00.32.31.png](data:image/png;base64,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)\n",
        "As you look at them, you might notice that the value of X is increasing by 1 as you read left to right and the corresponding value of Y is increasing by 3. You probably think that Y equals 3X plus or minus something. Then, you'd probably look at the 0 on X and see that Y is 1, and you'd come up with the relationship Y=3X+1.\n",
        "\n",
        "That's almost exactly how you would use code to train a model to spot the patterns in the data!\n",
        "\n",
        "Now, look at the code to do it.\n",
        "\n",
        "How would you train a neural network to do the equivalent task? Using data! By feeding it with a set of X's and a set of Y's, it should be able to figure out the relationship between them.\n",
        "\n"
      ],
      "metadata": {
        "id": "W0PIuZk9iaZs"
      }
    },
    {
      "cell_type": "markdown",
      "source": [
        "Start with your imports. Here, you're importing TensorFlow and calling it tf for ease of use.\n",
        "\n",
        "Next, import a library called numpy, which represents your data as lists easily and quickly.\n",
        "\n",
        "The framework for defining a neural network as a set of sequential layers is called keras, so import that, too."
      ],
      "metadata": {
        "id": "-cg20t0KF3HS"
      }
    },
    {
      "cell_type": "code",
      "execution_count": null,
      "metadata": {
        "id": "-qp2NCf0FrkW"
      },
      "outputs": [],
      "source": [
        "import tensorflow as tf\n",
        "import numpy as np\n",
        "from tensorflow import keras"
      ]
    },
    {
      "cell_type": "markdown",
      "source": [
        "**Define and compile the neural network**\n",
        "\n",
        "Next, create the simplest possible neural network. It has one layer, that layer has one neuron, and the input shape to it is only one value.\n"
      ],
      "metadata": {
        "id": "rp3q59atF_hz"
      }
    },
    {
      "cell_type": "code",
      "source": [
        "model = tf.keras.Sequential([keras.layers.Dense(units=1, input_shape=[1])])"
      ],
      "metadata": {
        "id": "nPKSh8WVbGq6"
      },
      "execution_count": null,
      "outputs": []
    },
    {
      "cell_type": "markdown",
      "source": [
        "Next, write the code to compile your neural network. When you do so, you need to specify two functions—a loss and an optimizer.\n",
        "\n",
        "In this example, you know that the relationship between the numbers is Y=3X+1.\n",
        "\n",
        "When the computer is trying to learn that, it makes a guess, maybe Y=10X+10. The loss function measures the guessed answers against the known correct answers and measures how well or badly it did.\n",
        "\n",
        "Next, the model uses the optimizer function to make another guess. Based on the loss function's result, it tries to minimize the loss. At this point, maybe it will come up with something like Y=5X+5. While that's still pretty bad, it's closer to the correct result (the loss is lower).\n",
        "\n",
        "The model repeats that for the number of epochs, which you'll see shortly.\n",
        "\n",
        "First, here's how to tell it to use mean_squared_error for the loss and stochastic gradient descent (sgd) for the optimizer.\n",
        "\n",
        "\n"
      ],
      "metadata": {
        "id": "lygOTlXibNJq"
      }
    },
    {
      "cell_type": "code",
      "source": [
        "model.compile(optimizer='sgd', loss='mean_squared_error')"
      ],
      "metadata": {
        "id": "v9nhnZE2gynZ"
      },
      "execution_count": null,
      "outputs": []
    },
    {
      "cell_type": "markdown",
      "source": [
        "**Provide the data**\n",
        "\n",
        "Next, feed some data. In this case, you take the six X and six Y variables from earlier. You can see that the relationship between those is that Y=3X+1, so where X is -1, Y is -2.\n",
        "\n",
        "A python library called NumPy provides lots of array type data structures to do this. Specify the values as an array in NumPy with np.array[]."
      ],
      "metadata": {
        "id": "zRB-vnMxg33a"
      }
    },
    {
      "cell_type": "code",
      "source": [
        "xs = np.array([-1.0, 0.0, 1.0, 2.0, 3.0, 4.0], dtype=\"float32\")\n",
        "ys = np.array([-2.0, 1.0, 4.0, 7.0, 10.0, 13.0], dtype=\"float32\")"
      ],
      "metadata": {
        "id": "2MjLuW5khJgj"
      },
      "execution_count": null,
      "outputs": []
    },
    {
      "cell_type": "markdown",
      "source": [
        "**Train the neural network**\n",
        "\n",
        "\n",
        "The process of training the neural network, where it learns the relationship between the X's and Y's, is in the model.fit call. That's where it will go through the loop before making a guess, measuring how good or bad it is (the loss), or using the optimizer to make another guess. It will do that for the number of epochs that you specify. When you run that code, you'll see the loss will be printed out for each epoch."
      ],
      "metadata": {
        "id": "FTEGlQIbhXih"
      }
    },
    {
      "cell_type": "code",
      "source": [
        "model.fit(xs, ys, epochs=500)"
      ],
      "metadata": {
        "id": "VCVWUaY4hgbO"
      },
      "execution_count": null,
      "outputs": []
    },
    {
      "cell_type": "markdown",
      "source": [
        "**Use the model**\n",
        "\n",
        "You have a model that has been trained to learn the relationship between X and Y. You can use the model.predict method to have it figure out the Y for a previously unknown X. For example, if X is 10, what do you think Y will be? Take a guess before you run the following code:"
      ],
      "metadata": {
        "id": "k4biUq4WhtQ6"
      }
    },
    {
      "cell_type": "code",
      "source": [
        "x = np.array([[11.0]], dtype=np.float32)\n",
        "print(model.predict(x))\n"
      ],
      "metadata": {
        "id": "yDuKCVgghwZ0"
      },
      "execution_count": null,
      "outputs": []
    }
  ]
}