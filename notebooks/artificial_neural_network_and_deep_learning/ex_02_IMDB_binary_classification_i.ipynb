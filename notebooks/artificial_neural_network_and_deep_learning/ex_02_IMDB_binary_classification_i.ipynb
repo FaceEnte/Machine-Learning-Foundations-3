{
 "cells": [
  {
   "cell_type": "markdown",
   "metadata": {
    "id": "zDKSJpIbIAH1"
   },
   "source": [
    "## Classifying movie reviews: A binary classification example"
   ]
  },
  {
   "cell_type": "markdown",
   "metadata": {
    "id": "6NBhZoOVIAH1"
   },
   "source": [
    "### The IMDB dataset"
   ]
  },
  {
   "cell_type": "markdown",
   "source": [
    "\n",
    "\n",
    "---\n",
    "\n",
    "\n",
    "The IMDB dataset: a set of 50,000 highly polarized reviews from the Internet Movie Database. They’re split into 25,000 reviews for training and 25,000 reviews for testing, each set consisting of 50% negative and 50% positive reviews.\n",
    "Just like the MNIST dataset, the IMDB dataset comes packaged with Keras. It has\n",
    "already been preprocessed: the reviews (sequences of words) have been turned into\n",
    "sequences of integers, where each integer stands for a specific word in a dictionary.\n",
    "This enables you to focus on model building, training, and evaluation.\n",
    "\n",
    "---\n",
    "\n"
   ],
   "metadata": {
    "id": "cpbaQcSWyOtC"
   }
  },
  {
   "cell_type": "markdown",
   "metadata": {
    "id": "6myrex8bIAH1"
   },
   "source": [
    "**Loading the IMDB dataset**"
   ]
  },
  {
   "cell_type": "code",
   "metadata": {
    "id": "d-MJeoJeIAH2",
    "ExecuteTime": {
     "end_time": "2025-09-19T09:43:53.123792Z",
     "start_time": "2025-09-19T09:43:48.305899Z"
    }
   },
   "source": [
    "from tensorflow.keras.datasets import imdb\n",
    "(train_data, train_labels), (test_data, test_labels) = imdb.load_data(\n",
    "    num_words=10000)"
   ],
   "outputs": [
    {
     "name": "stdout",
     "output_type": "stream",
     "text": [
      "Downloading data from https://storage.googleapis.com/tensorflow/tf-keras-datasets/imdb.npz\n",
      "\u001B[1m17464789/17464789\u001B[0m \u001B[32m━━━━━━━━━━━━━━━━━━━━\u001B[0m\u001B[37m\u001B[0m \u001B[1m1s\u001B[0m 0us/step\n"
     ]
    }
   ],
   "execution_count": 1
  },
  {
   "cell_type": "markdown",
   "source": [
    "The argument num_words=10000 means you’ll only keep the top 10,000 most frequently\n",
    "occurring words in the training data. Rare words will be discarded. This allows\n",
    "us to work with vector data of manageable size. If we didn’t set this limit, we’d be working\n",
    "with 88,585 unique words in the training data, which is unnecessarily large. Many\n",
    "of these words only occur in a single sample, and thus can’t be meaningfully used for\n",
    "classification."
   ],
   "metadata": {
    "id": "npH5etA-yl6v"
   }
  },
  {
   "cell_type": "code",
   "source": [
    "train_data.shape"
   ],
   "metadata": {
    "id": "PbxGH2lxwVSf",
    "ExecuteTime": {
     "end_time": "2025-09-19T09:43:57.326432Z",
     "start_time": "2025-09-19T09:43:57.320124Z"
    }
   },
   "outputs": [
    {
     "data": {
      "text/plain": [
       "(25000,)"
      ]
     },
     "execution_count": 2,
     "metadata": {},
     "output_type": "execute_result"
    }
   ],
   "execution_count": 2
  },
  {
   "cell_type": "markdown",
   "source": [
    "The variables train_data and test_data are lists of reviews; each review is a list of\n",
    "word indices (encoding a sequence of words)."
   ],
   "metadata": {
    "id": "f6cbHmIvy_sn"
   }
  },
  {
   "cell_type": "code",
   "metadata": {
    "id": "SMPtsDNGIAH2",
    "ExecuteTime": {
     "end_time": "2025-09-19T09:44:02.895359Z",
     "start_time": "2025-09-19T09:44:02.889894Z"
    }
   },
   "source": [
    "train_data[0]"
   ],
   "outputs": [
    {
     "data": {
      "text/plain": [
       "[1,\n",
       " 14,\n",
       " 22,\n",
       " 16,\n",
       " 43,\n",
       " 530,\n",
       " 973,\n",
       " 1622,\n",
       " 1385,\n",
       " 65,\n",
       " 458,\n",
       " 4468,\n",
       " 66,\n",
       " 3941,\n",
       " 4,\n",
       " 173,\n",
       " 36,\n",
       " 256,\n",
       " 5,\n",
       " 25,\n",
       " 100,\n",
       " 43,\n",
       " 838,\n",
       " 112,\n",
       " 50,\n",
       " 670,\n",
       " 2,\n",
       " 9,\n",
       " 35,\n",
       " 480,\n",
       " 284,\n",
       " 5,\n",
       " 150,\n",
       " 4,\n",
       " 172,\n",
       " 112,\n",
       " 167,\n",
       " 2,\n",
       " 336,\n",
       " 385,\n",
       " 39,\n",
       " 4,\n",
       " 172,\n",
       " 4536,\n",
       " 1111,\n",
       " 17,\n",
       " 546,\n",
       " 38,\n",
       " 13,\n",
       " 447,\n",
       " 4,\n",
       " 192,\n",
       " 50,\n",
       " 16,\n",
       " 6,\n",
       " 147,\n",
       " 2025,\n",
       " 19,\n",
       " 14,\n",
       " 22,\n",
       " 4,\n",
       " 1920,\n",
       " 4613,\n",
       " 469,\n",
       " 4,\n",
       " 22,\n",
       " 71,\n",
       " 87,\n",
       " 12,\n",
       " 16,\n",
       " 43,\n",
       " 530,\n",
       " 38,\n",
       " 76,\n",
       " 15,\n",
       " 13,\n",
       " 1247,\n",
       " 4,\n",
       " 22,\n",
       " 17,\n",
       " 515,\n",
       " 17,\n",
       " 12,\n",
       " 16,\n",
       " 626,\n",
       " 18,\n",
       " 2,\n",
       " 5,\n",
       " 62,\n",
       " 386,\n",
       " 12,\n",
       " 8,\n",
       " 316,\n",
       " 8,\n",
       " 106,\n",
       " 5,\n",
       " 4,\n",
       " 2223,\n",
       " 5244,\n",
       " 16,\n",
       " 480,\n",
       " 66,\n",
       " 3785,\n",
       " 33,\n",
       " 4,\n",
       " 130,\n",
       " 12,\n",
       " 16,\n",
       " 38,\n",
       " 619,\n",
       " 5,\n",
       " 25,\n",
       " 124,\n",
       " 51,\n",
       " 36,\n",
       " 135,\n",
       " 48,\n",
       " 25,\n",
       " 1415,\n",
       " 33,\n",
       " 6,\n",
       " 22,\n",
       " 12,\n",
       " 215,\n",
       " 28,\n",
       " 77,\n",
       " 52,\n",
       " 5,\n",
       " 14,\n",
       " 407,\n",
       " 16,\n",
       " 82,\n",
       " 2,\n",
       " 8,\n",
       " 4,\n",
       " 107,\n",
       " 117,\n",
       " 5952,\n",
       " 15,\n",
       " 256,\n",
       " 4,\n",
       " 2,\n",
       " 7,\n",
       " 3766,\n",
       " 5,\n",
       " 723,\n",
       " 36,\n",
       " 71,\n",
       " 43,\n",
       " 530,\n",
       " 476,\n",
       " 26,\n",
       " 400,\n",
       " 317,\n",
       " 46,\n",
       " 7,\n",
       " 4,\n",
       " 2,\n",
       " 1029,\n",
       " 13,\n",
       " 104,\n",
       " 88,\n",
       " 4,\n",
       " 381,\n",
       " 15,\n",
       " 297,\n",
       " 98,\n",
       " 32,\n",
       " 2071,\n",
       " 56,\n",
       " 26,\n",
       " 141,\n",
       " 6,\n",
       " 194,\n",
       " 7486,\n",
       " 18,\n",
       " 4,\n",
       " 226,\n",
       " 22,\n",
       " 21,\n",
       " 134,\n",
       " 476,\n",
       " 26,\n",
       " 480,\n",
       " 5,\n",
       " 144,\n",
       " 30,\n",
       " 5535,\n",
       " 18,\n",
       " 51,\n",
       " 36,\n",
       " 28,\n",
       " 224,\n",
       " 92,\n",
       " 25,\n",
       " 104,\n",
       " 4,\n",
       " 226,\n",
       " 65,\n",
       " 16,\n",
       " 38,\n",
       " 1334,\n",
       " 88,\n",
       " 12,\n",
       " 16,\n",
       " 283,\n",
       " 5,\n",
       " 16,\n",
       " 4472,\n",
       " 113,\n",
       " 103,\n",
       " 32,\n",
       " 15,\n",
       " 16,\n",
       " 5345,\n",
       " 19,\n",
       " 178,\n",
       " 32]"
      ]
     },
     "execution_count": 3,
     "metadata": {},
     "output_type": "execute_result"
    }
   ],
   "execution_count": 3
  },
  {
   "cell_type": "markdown",
   "source": [
    "train_labels and test_labels are\n",
    "lists of 0s and 1s, where 0 stands for negative and 1 stands for positive:"
   ],
   "metadata": {
    "id": "rMCR-6EvzNLG"
   }
  },
  {
   "cell_type": "code",
   "metadata": {
    "id": "eis6j6ewIAH2",
    "ExecuteTime": {
     "end_time": "2025-09-19T09:44:22.136341Z",
     "start_time": "2025-09-19T09:44:22.132332Z"
    }
   },
   "source": [
    "train_labels[0]"
   ],
   "outputs": [
    {
     "data": {
      "text/plain": [
       "np.int64(1)"
      ]
     },
     "execution_count": 4,
     "metadata": {},
     "output_type": "execute_result"
    }
   ],
   "execution_count": 4
  },
  {
   "cell_type": "markdown",
   "source": [
    "Because we’re restricting ourselves to the top 10,000 most frequent words, no word\n",
    "index will exceed 10,000:"
   ],
   "metadata": {
    "id": "9Jz_flV8ze6C"
   }
  },
  {
   "cell_type": "code",
   "metadata": {
    "id": "XY0BPj84IAH2",
    "ExecuteTime": {
     "end_time": "2025-09-19T09:44:30.496206Z",
     "start_time": "2025-09-19T09:44:30.410890Z"
    }
   },
   "source": [
    "max([max(sequence) for sequence in train_data])"
   ],
   "outputs": [
    {
     "data": {
      "text/plain": [
       "9999"
      ]
     },
     "execution_count": 5,
     "metadata": {},
     "output_type": "execute_result"
    }
   ],
   "execution_count": 5
  },
  {
   "cell_type": "markdown",
   "metadata": {
    "id": "w6vALbx3IAH3"
   },
   "source": [
    "**Decoding reviews back to text**"
   ]
  },
  {
   "cell_type": "markdown",
   "source": [
    "For kicks, here’s how you can quickly decode one of these reviews back to English words."
   ],
   "metadata": {
    "id": "IYw6RAS_0YQ8"
   }
  },
  {
   "cell_type": "code",
   "metadata": {
    "id": "4eZ8HhhdIAH3",
    "ExecuteTime": {
     "end_time": "2025-09-19T09:44:48.078120Z",
     "start_time": "2025-09-19T09:44:47.072743Z"
    }
   },
   "source": [
    "word_index = imdb.get_word_index()\n",
    "reverse_word_index = dict(\n",
    "    [(value, key) for (key, value) in word_index.items()])\n",
    "decoded_review = \" \".join(\n",
    "    [reverse_word_index.get(i - 3, \"?\") for i in train_data[0]])"
   ],
   "outputs": [
    {
     "name": "stdout",
     "output_type": "stream",
     "text": [
      "Downloading data from https://storage.googleapis.com/tensorflow/tf-keras-datasets/imdb_word_index.json\n",
      "\u001B[1m1641221/1641221\u001B[0m \u001B[32m━━━━━━━━━━━━━━━━━━━━\u001B[0m\u001B[37m\u001B[0m \u001B[1m1s\u001B[0m 0us/step\n"
     ]
    }
   ],
   "execution_count": 6
  },
  {
   "cell_type": "markdown",
   "metadata": {
    "id": "HCFVudbXIAH3"
   },
   "source": [
    "### Preparing the data"
   ]
  },
  {
   "cell_type": "markdown",
   "source": [
    "You can’t directly feed lists of integers into a neural network. They all have different\n",
    "lengths, but a neural network expects to process contiguous batches of data. You have\n",
    "to turn your lists into tensors. There are two ways to do that:\n",
    "  \n",
    "\n",
    "*   Pad your lists so that they all have the same length, turn them into an integer\n",
    "tensor of shape (samples, max_length), and start your model with a layer capable\n",
    "of handling such integer tensors.\n",
    "*  Multi-hot encode your lists to turn them into vectors of 0s and 1s. This would\n",
    "mean, for instance, turning the sequence [8, 5] into a 10,000-dimensional vector\n",
    "that would be all 0s except for indices 8 and 5, which would be 1s. Then you\n",
    "could use a Dense layer, capable of handling floating-point vector data, as the\n",
    "first layer in your model.\n",
    "\n",
    "\n",
    "\n",
    "Let’s go with the latter solution to vectorize the data, which you’ll do manually for\n",
    "maximum clarity."
   ],
   "metadata": {
    "id": "hK57aORZ1TRp"
   }
  },
  {
   "cell_type": "markdown",
   "metadata": {
    "id": "7WRCeCL8IAH3"
   },
   "source": [
    "**Encoding the integer sequences via multi-hot encoding**"
   ]
  },
  {
   "cell_type": "code",
   "metadata": {
    "id": "NkFmXMVuIAH3",
    "ExecuteTime": {
     "end_time": "2025-09-19T09:44:53.439694Z",
     "start_time": "2025-09-19T09:44:52.671536Z"
    }
   },
   "source": [
    "import numpy as np\n",
    "def vectorize_sequences(sequences, dimension=10000):\n",
    "    results = np.zeros((len(sequences), dimension))\n",
    "    for i, sequence in enumerate(sequences):\n",
    "        for j in sequence:\n",
    "            results[i, j] = 1.\n",
    "    return results\n",
    "x_train = vectorize_sequences(train_data)\n",
    "x_test = vectorize_sequences(test_data)"
   ],
   "outputs": [],
   "execution_count": 7
  },
  {
   "cell_type": "markdown",
   "source": [
    "Here’s what the samples look like now:"
   ],
   "metadata": {
    "id": "_QROr1rjD6s_"
   }
  },
  {
   "cell_type": "code",
   "metadata": {
    "id": "DkqJvyrYIAH3",
    "ExecuteTime": {
     "end_time": "2025-09-19T09:44:56.208722Z",
     "start_time": "2025-09-19T09:44:56.203466Z"
    }
   },
   "source": [
    "x_train[0]"
   ],
   "outputs": [
    {
     "data": {
      "text/plain": [
       "array([0., 1., 1., ..., 0., 0., 0.], shape=(10000,))"
      ]
     },
     "execution_count": 8,
     "metadata": {},
     "output_type": "execute_result"
    }
   ],
   "execution_count": 8
  },
  {
   "cell_type": "markdown",
   "source": [
    "You should also vectorize your labels, which is straightforward:"
   ],
   "metadata": {
    "id": "YAwT7ILkECfz"
   }
  },
  {
   "cell_type": "code",
   "metadata": {
    "id": "puo-LahjIAH3",
    "ExecuteTime": {
     "end_time": "2025-09-19T09:44:59.491730Z",
     "start_time": "2025-09-19T09:44:59.488216Z"
    }
   },
   "source": [
    "y_train = np.asarray(train_labels).astype(\"float32\")\n",
    "y_test = np.asarray(test_labels).astype(\"float32\")"
   ],
   "outputs": [],
   "execution_count": 9
  },
  {
   "cell_type": "markdown",
   "metadata": {
    "id": "75TuYwCwIAH3"
   },
   "source": [
    "### Building your model"
   ]
  },
  {
   "cell_type": "markdown",
   "source": [
    "\n",
    "\n",
    "---\n",
    "\n",
    "\n",
    "The input data is vectors, and the labels are scalars (1s\n",
    "and 0s): this is one of the simplest\n",
    "problem setups you’ll ever encounter.:\n",
    "\n",
    "---\n",
    "\n"
   ],
   "metadata": {
    "id": "o9QAGcdrEdrr"
   }
  },
  {
   "cell_type": "markdown",
   "metadata": {
    "id": "jLI6wBvJIAH3"
   },
   "source": [
    "**Model definition**"
   ]
  },
  {
   "cell_type": "markdown",
   "source": [
    "1. Create a sequential model with three dense layers, two hidden and one for output. Make the output size of the hidden layers 16 each and carrefully choose the activation functions and the output size of the last layer."
   ],
   "metadata": {
    "id": "q8C0jH_uHv18"
   }
  },
  {
   "metadata": {
    "ExecuteTime": {
     "end_time": "2025-09-19T09:47:24.833735Z",
     "start_time": "2025-09-19T09:47:24.818983Z"
    }
   },
   "cell_type": "code",
   "source": [
    "from tensorflow import keras\n",
    "from tensorflow.keras import layers\n",
    "\n",
    "model = keras.Sequential([\n",
    "    keras.Input(shape=(10000,)),\n",
    "    layers.Dense(16, activation=\"relu\"),\n",
    "    layers.Dense(16, activation=\"relu\"),\n",
    "    layers.Dense(1, activation=\"sigmoid\")\n",
    "])"
   ],
   "outputs": [],
   "execution_count": 12
  },
  {
   "cell_type": "markdown",
   "metadata": {
    "id": "g57SToczIAH4"
   },
   "source": [
    "**Compiling the model**"
   ]
  },
  {
   "cell_type": "code",
   "metadata": {
    "id": "SOdNm3kCIAH4",
    "ExecuteTime": {
     "end_time": "2025-09-19T09:47:26.975547Z",
     "start_time": "2025-09-19T09:47:26.966112Z"
    }
   },
   "source": [
    "model.compile(optimizer=\"rmsprop\",\n",
    "              loss=\"binary_crossentropy\",\n",
    "              metrics=[\"accuracy\"])"
   ],
   "outputs": [],
   "execution_count": 13
  },
  {
   "cell_type": "markdown",
   "metadata": {
    "id": "dN4LuHiKIAH4"
   },
   "source": [
    "### Validating your approach"
   ]
  },
  {
   "cell_type": "markdown",
   "metadata": {
    "id": "UsbXP2LoIAH4"
   },
   "source": [
    "**Setting aside a validation set**"
   ]
  },
  {
   "cell_type": "markdown",
   "source": [
    "2. Create the validation set with he first 10000 sample of the dataset."
   ],
   "metadata": {
    "id": "-4vjA55rJUz2"
   }
  },
  {
   "metadata": {
    "ExecuteTime": {
     "end_time": "2025-09-19T09:50:01.239274Z",
     "start_time": "2025-09-19T09:50:01.236874Z"
    }
   },
   "cell_type": "code",
   "source": [
    "import numpy as np\n",
    "\n",
    "x_val = x_train[:10000]\n",
    "partial_x_train = x_train[10000:]\n",
    "\n",
    "y_val = y_train[:10000]\n",
    "partial_y_train = y_train[10000:]"
   ],
   "outputs": [],
   "execution_count": 14
  },
  {
   "cell_type": "markdown",
   "metadata": {
    "id": "CPxoJx7lIAH4"
   },
   "source": [
    "**Training your model**"
   ]
  },
  {
   "cell_type": "markdown",
   "source": [
    "3. Train the model for 20 epochs and batch-size 512"
   ],
   "metadata": {
    "id": "WeyyJ4nGJJwj"
   }
  },
  {
   "metadata": {
    "ExecuteTime": {
     "end_time": "2025-09-19T09:50:06.545701Z",
     "start_time": "2025-09-19T09:50:02.748717Z"
    }
   },
   "cell_type": "code",
   "source": [
    "history = model.fit(\n",
    "    partial_x_train,\n",
    "    partial_y_train,\n",
    "    epochs=20,\n",
    "    batch_size=512,\n",
    "    validation_data=(x_val, y_val)\n",
    ")"
   ],
   "outputs": [
    {
     "name": "stdout",
     "output_type": "stream",
     "text": [
      "Epoch 1/20\n",
      "\u001B[1m30/30\u001B[0m \u001B[32m━━━━━━━━━━━━━━━━━━━━\u001B[0m\u001B[37m\u001B[0m \u001B[1m1s\u001B[0m 10ms/step - accuracy: 0.7715 - loss: 0.5567 - val_accuracy: 0.8531 - val_loss: 0.4376\n",
      "Epoch 2/20\n",
      "\u001B[1m30/30\u001B[0m \u001B[32m━━━━━━━━━━━━━━━━━━━━\u001B[0m\u001B[37m\u001B[0m \u001B[1m0s\u001B[0m 4ms/step - accuracy: 0.8911 - loss: 0.3515 - val_accuracy: 0.8757 - val_loss: 0.3363\n",
      "Epoch 3/20\n",
      "\u001B[1m30/30\u001B[0m \u001B[32m━━━━━━━━━━━━━━━━━━━━\u001B[0m\u001B[37m\u001B[0m \u001B[1m0s\u001B[0m 4ms/step - accuracy: 0.9134 - loss: 0.2625 - val_accuracy: 0.8891 - val_loss: 0.2911\n",
      "Epoch 4/20\n",
      "\u001B[1m30/30\u001B[0m \u001B[32m━━━━━━━━━━━━━━━━━━━━\u001B[0m\u001B[37m\u001B[0m \u001B[1m0s\u001B[0m 5ms/step - accuracy: 0.9300 - loss: 0.2098 - val_accuracy: 0.8889 - val_loss: 0.2765\n",
      "Epoch 5/20\n",
      "\u001B[1m30/30\u001B[0m \u001B[32m━━━━━━━━━━━━━━━━━━━━\u001B[0m\u001B[37m\u001B[0m \u001B[1m0s\u001B[0m 5ms/step - accuracy: 0.9422 - loss: 0.1756 - val_accuracy: 0.8833 - val_loss: 0.2900\n",
      "Epoch 6/20\n",
      "\u001B[1m30/30\u001B[0m \u001B[32m━━━━━━━━━━━━━━━━━━━━\u001B[0m\u001B[37m\u001B[0m \u001B[1m0s\u001B[0m 5ms/step - accuracy: 0.9517 - loss: 0.1480 - val_accuracy: 0.8839 - val_loss: 0.2882\n",
      "Epoch 7/20\n",
      "\u001B[1m30/30\u001B[0m \u001B[32m━━━━━━━━━━━━━━━━━━━━\u001B[0m\u001B[37m\u001B[0m \u001B[1m0s\u001B[0m 5ms/step - accuracy: 0.9592 - loss: 0.1294 - val_accuracy: 0.8732 - val_loss: 0.3194\n",
      "Epoch 8/20\n",
      "\u001B[1m30/30\u001B[0m \u001B[32m━━━━━━━━━━━━━━━━━━━━\u001B[0m\u001B[37m\u001B[0m \u001B[1m0s\u001B[0m 5ms/step - accuracy: 0.9686 - loss: 0.1093 - val_accuracy: 0.8819 - val_loss: 0.3072\n",
      "Epoch 9/20\n",
      "\u001B[1m30/30\u001B[0m \u001B[32m━━━━━━━━━━━━━━━━━━━━\u001B[0m\u001B[37m\u001B[0m \u001B[1m0s\u001B[0m 5ms/step - accuracy: 0.9721 - loss: 0.0955 - val_accuracy: 0.8799 - val_loss: 0.3231\n",
      "Epoch 10/20\n",
      "\u001B[1m30/30\u001B[0m \u001B[32m━━━━━━━━━━━━━━━━━━━━\u001B[0m\u001B[37m\u001B[0m \u001B[1m0s\u001B[0m 5ms/step - accuracy: 0.9775 - loss: 0.0817 - val_accuracy: 0.8828 - val_loss: 0.3328\n",
      "Epoch 11/20\n",
      "\u001B[1m30/30\u001B[0m \u001B[32m━━━━━━━━━━━━━━━━━━━━\u001B[0m\u001B[37m\u001B[0m \u001B[1m0s\u001B[0m 5ms/step - accuracy: 0.9810 - loss: 0.0704 - val_accuracy: 0.8774 - val_loss: 0.3676\n",
      "Epoch 12/20\n",
      "\u001B[1m30/30\u001B[0m \u001B[32m━━━━━━━━━━━━━━━━━━━━\u001B[0m\u001B[37m\u001B[0m \u001B[1m0s\u001B[0m 5ms/step - accuracy: 0.9855 - loss: 0.0597 - val_accuracy: 0.8766 - val_loss: 0.3817\n",
      "Epoch 13/20\n",
      "\u001B[1m30/30\u001B[0m \u001B[32m━━━━━━━━━━━━━━━━━━━━\u001B[0m\u001B[37m\u001B[0m \u001B[1m0s\u001B[0m 5ms/step - accuracy: 0.9877 - loss: 0.0526 - val_accuracy: 0.8791 - val_loss: 0.3881\n",
      "Epoch 14/20\n",
      "\u001B[1m30/30\u001B[0m \u001B[32m━━━━━━━━━━━━━━━━━━━━\u001B[0m\u001B[37m\u001B[0m \u001B[1m0s\u001B[0m 5ms/step - accuracy: 0.9918 - loss: 0.0427 - val_accuracy: 0.8703 - val_loss: 0.4277\n",
      "Epoch 15/20\n",
      "\u001B[1m30/30\u001B[0m \u001B[32m━━━━━━━━━━━━━━━━━━━━\u001B[0m\u001B[37m\u001B[0m \u001B[1m0s\u001B[0m 4ms/step - accuracy: 0.9919 - loss: 0.0387 - val_accuracy: 0.8766 - val_loss: 0.4330\n",
      "Epoch 16/20\n",
      "\u001B[1m30/30\u001B[0m \u001B[32m━━━━━━━━━━━━━━━━━━━━\u001B[0m\u001B[37m\u001B[0m \u001B[1m0s\u001B[0m 5ms/step - accuracy: 0.9943 - loss: 0.0317 - val_accuracy: 0.8745 - val_loss: 0.4627\n",
      "Epoch 17/20\n",
      "\u001B[1m30/30\u001B[0m \u001B[32m━━━━━━━━━━━━━━━━━━━━\u001B[0m\u001B[37m\u001B[0m \u001B[1m0s\u001B[0m 5ms/step - accuracy: 0.9951 - loss: 0.0276 - val_accuracy: 0.8745 - val_loss: 0.4819\n",
      "Epoch 18/20\n",
      "\u001B[1m30/30\u001B[0m \u001B[32m━━━━━━━━━━━━━━━━━━━━\u001B[0m\u001B[37m\u001B[0m \u001B[1m0s\u001B[0m 5ms/step - accuracy: 0.9967 - loss: 0.0223 - val_accuracy: 0.8737 - val_loss: 0.5002\n",
      "Epoch 19/20\n",
      "\u001B[1m30/30\u001B[0m \u001B[32m━━━━━━━━━━━━━━━━━━━━\u001B[0m\u001B[37m\u001B[0m \u001B[1m0s\u001B[0m 5ms/step - accuracy: 0.9955 - loss: 0.0211 - val_accuracy: 0.8740 - val_loss: 0.5221\n",
      "Epoch 20/20\n",
      "\u001B[1m30/30\u001B[0m \u001B[32m━━━━━━━━━━━━━━━━━━━━\u001B[0m\u001B[37m\u001B[0m \u001B[1m0s\u001B[0m 5ms/step - accuracy: 0.9976 - loss: 0.0178 - val_accuracy: 0.8687 - val_loss: 0.5511\n"
     ]
    }
   ],
   "execution_count": 15
  },
  {
   "cell_type": "markdown",
   "metadata": {
    "id": "44mrjy6VIAH4"
   },
   "source": [
    "**Plotting the training and validation loss and accuracy**"
   ]
  },
  {
   "cell_type": "markdown",
   "source": [
    "4. Plot the results (you will use the History object). Example:\n",
    "\n",
    "![image.png](data:image/png;base64,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)\n",
    "![image.png](data:image/png;base64,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)"
   ],
   "metadata": {
    "id": "7vESfpZQKzJu"
   }
  },
  {
   "metadata": {
    "ExecuteTime": {
     "end_time": "2025-09-19T09:52:23.866445Z",
     "start_time": "2025-09-19T09:52:23.685966Z"
    }
   },
   "cell_type": "code",
   "source": [
    "import matplotlib.pyplot as plt\n",
    "\n",
    "history_dict = history.history\n",
    "\n",
    "loss = history_dict['loss']\n",
    "val_loss = history_dict['val_loss']\n",
    "accuracy = history_dict['accuracy']\n",
    "val_accuracy = history_dict['val_accuracy']\n",
    "\n",
    "epochs = range(1, len(loss) + 1)\n",
    "\n",
    "plt.figure(figsize=(12, 5))\n",
    "\n",
    "# Plot loss\n",
    "plt.subplot(1, 2, 1)\n",
    "plt.plot(epochs, loss, 'bo', label='Training loss')\n",
    "plt.plot(epochs, val_loss, 'b', label='Validation loss')\n",
    "plt.title('Training and validation loss')\n",
    "plt.xlabel('Epochs')\n",
    "plt.ylabel('Loss')\n",
    "plt.legend()\n",
    "\n",
    "# Plot accuracy\n",
    "plt.subplot(1, 2, 2)\n",
    "plt.plot(epochs, accuracy, 'ro', label='Training accuracy')\n",
    "plt.plot(epochs, val_accuracy, 'r', label='Validation accuracy')\n",
    "plt.title('Training and validation accuracy')\n",
    "plt.xlabel('Epochs')\n",
    "plt.ylabel('Accuracy')\n",
    "plt.legend()\n",
    "\n",
    "plt.tight_layout()\n",
    "plt.show()"
   ],
   "outputs": [
    {
     "data": {
      "text/plain": [
       "<Figure size 1200x500 with 2 Axes>"
      ],
      "image/png": "[encoded data removed]"
     },
     "metadata": {},
     "output_type": "display_data",
     "jetTransient": {
      "display_id": null
     }
    }
   ],
   "execution_count": 17
  },
  {
   "cell_type": "markdown",
   "metadata": {
    "id": "LyHTvEkTIAH5"
   },
   "source": [
    "### Using a trained model to generate predictions on new data"
   ]
  },
  {
   "cell_type": "markdown",
   "metadata": {
    "id": "htq1V21QIAH5"
   },
   "source": [
    "**Retraining a model from scratch**"
   ]
  },
  {
   "cell_type": "markdown",
   "source": [
    "5. Retrain with : (a) different batch-sizes, (b) different number of epochs (4/10/30), (c) smaller training sets (100/1000/6000/10000) and combination of these 3. Also, create different models with (d) more layers, (e) smaller layers and train them for different scenarios from above (batch-size, epochs and size of training set).\n",
    "\n",
    "6. What do you observe?\n",
    "\n",
    "7. Plot the results for each of your experiments."
   ],
   "metadata": {
    "id": "GUILTe_aNlhA"
   }
  }
 ],
 "metadata": {
  "colab": {
   "provenance": []
  },
  "kernelspec": {
   "display_name": "Python 3",
   "language": "python",
   "name": "python3"
  },
  "language_info": {
   "codemirror_mode": {
    "name": "ipython",
    "version": 3
   },
   "file_extension": ".py",
   "mimetype": "text/x-python",
   "name": "python",
   "nbconvert_exporter": "python",
   "pygments_lexer": "ipython3",
   "version": "3.7.0"
  },
  "accelerator": "TPU",
  "gpuClass": "standard"
 },
 "nbformat": 4,
 "nbformat_minor": 0
}
